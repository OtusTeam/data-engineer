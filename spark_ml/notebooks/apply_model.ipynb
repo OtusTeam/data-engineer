{
 "cells": [
  {
   "cell_type": "code",
   "execution_count": 106,
   "metadata": {},
   "outputs": [],
   "source": [
    "import org.apache.spark.sql.types.{StructType, StringType}\n",
    "import org.apache.spark.ml.{Pipeline, PipelineModel}\n",
    "import org.apache.spark.sql.functions._\n",
    "import org.apache.spark.sql.DataFrame"
   ]
  },
  {
   "cell_type": "code",
   "execution_count": 107,
   "metadata": {},
   "outputs": [
    {
     "name": "stdout",
     "output_type": "stream",
     "text": [
      "Current spark version is 2.4.5\n"
     ]
    }
   ],
   "source": [
    "println(s\"Current spark version is ${spark.version}\")"
   ]
  },
  {
   "cell_type": "code",
   "execution_count": 108,
   "metadata": {},
   "outputs": [
    {
     "data": {
      "text/plain": [
       "inputStreamPath = /home/jovyan/data/events-stream\n",
       "modelPath = /home/jovyan/models/spark-ml-model\n",
       "dataSchema = StructType(StructField(tweet,StringType,true))\n",
       "inputDF = [tweet: string]\n"
      ]
     },
     "metadata": {},
     "output_type": "display_data"
    },
    {
     "data": {
      "text/plain": [
       "[tweet: string]"
      ]
     },
     "execution_count": 108,
     "metadata": {},
     "output_type": "execute_result"
    }
   ],
   "source": [
    "val inputStreamPath = \"/home/jovyan/data/events-stream\"\n",
    "val modelPath = \"/home/jovyan/models/spark-ml-model\"\n",
    "\n",
    "val dataSchema = new StructType()\n",
    "    .add(\"tweet\", StringType)\n",
    "\n",
    "val inputDF = spark\n",
    "    .readStream\n",
    "    .schema(dataSchema)\n",
    "    .option(\"maxFilesPerTrigger\", 1)\n",
    "    .json(inputStreamPath)"
   ]
  },
  {
   "cell_type": "code",
   "execution_count": 109,
   "metadata": {},
   "outputs": [
    {
     "data": {
      "text/plain": [
       "Model = pipeline_ebfe683b7a32\n",
       "predictionsDF = [tweet: string, words: array<string> ... 4 more fields]\n"
      ]
     },
     "metadata": {},
     "output_type": "display_data"
    },
    {
     "data": {
      "text/plain": [
       "[tweet: string, words: array<string> ... 4 more fields]"
      ]
     },
     "execution_count": 109,
     "metadata": {},
     "output_type": "execute_result"
    }
   ],
   "source": [
    "//////////////////////////////////////////////////////////////////\n",
    "\n",
    "val Model = PipelineModel.load(modelPath)\n",
    "\n",
    "val predictionsDF = Model.transform(inputDF)\n"
   ]
  },
  {
   "cell_type": "code",
   "execution_count": 110,
   "metadata": {},
   "outputs": [
    {
     "name": "stdout",
     "output_type": "stream",
     "text": [
      "+--------------------+--------------------+--------------------+--------------------+--------------------+----------+\n",
      "|               tweet|               words|            features|       rawPrediction|         probability|prediction|\n",
      "+--------------------+--------------------+--------------------+--------------------+--------------------+----------+\n",
      "|is casting away c...|[is, casting, awa...|(1000,[281,416,73...|[4.87917110966780...|[0.48791711096678...|       1.0|\n",
      "|@YannR 15 miles 1...|[@yannr, 15, mile...|(1000,[170,207,22...|[5.07035085442434...|[0.50703508544243...|       0.0|\n",
      "|@Chesska5 AGAIN!!...|[@chesska5, again...|(1000,[372,412,44...|[4.87917110966780...|[0.48791711096678...|       1.0|\n",
      "|@vodafoneNZ why n...|[@vodafonenz, why...|(1000,[7,40,224,2...|[5.71261516780369...|[0.57126151678036...|       0.0|\n",
      "|mark derosa AND k...|[mark, derosa, an...|(1000,[47,82,109,...|[5.63794180065782...|[0.56379418006578...|       0.0|\n",
      "|@toeandno glad to...|[@toeandno, glad,...|(1000,[73,77,230,...|[4.62064554664980...|[0.46206455466498...|       1.0|\n",
      "|On the streetcar ...|[on, the, streetc...|(1000,[82,138,372...|[5.08100976580721...|[0.50810097658072...|       0.0|\n",
      "|@jenmarielle why ...|[@jenmarielle, wh...|(1000,[240,322,32...|[4.07908406588242...|[0.40790840658824...|       1.0|\n",
      "|@mikeypiff you're...|[@mikeypiff, you'...|(1000,[170,370,67...|[4.66187770509853...|[0.46618777050985...|       1.0|\n",
      "|@sunanna ooo! I w...|[@sunanna, ooo!, ...|(1000,[29,170,195...|[4.90892379652397...|[0.49089237965239...|       1.0|\n",
      "|today was the bes...|[today, was, the,...|(1000,[170,234,24...|[4.31147939939286...|[0.43114793993928...|       1.0|\n",
      "|  new background... |[new, background...]|(1000,[25,771],[1...|[4.87917110966780...|[0.48791711096678...|       1.0|\n",
      "|@kyle270 hey baby...|[@kyle270, hey, b...|(1000,[0,11,82,16...|[4.21703882302147...|[0.42170388230214...|       1.0|\n",
      "|@realmfox You loo...|[@realmfox, you, ...|(1000,[13,40,130,...|[4.56234815445403...|[0.45623481544540...|       1.0|\n",
      "|      ciao for now! |   [ciao, for, now!]|(1000,[36,988,990...|[4.87917110966780...|[0.48791711096678...|       1.0|\n",
      "|Mmmm frozen yogurt. |[mmmm, frozen, yo...|(1000,[222,612,64...|[4.87917110966780...|[0.48791711096678...|       1.0|\n",
      "|@KimKardashian ye...|[@kimkardashian, ...|(1000,[13,170,181...|[4.50652378489882...|[0.45065237848988...|       1.0|\n",
      "|@SinaAmedson it's...|[@sinaamedson, it...|(1000,[313,372,39...|[4.56234815445403...|[0.45623481544540...|       1.0|\n",
      "|     Goodmorning !! |   [goodmorning, !!]|(1000,[28,339],[1...|[4.87917110966780...|[0.48791711096678...|       1.0|\n",
      "|@FitPole Very tem...|[@fitpole, very, ...|(1000,[53,159,267...|[4.74780798273494...|[0.47478079827349...|       1.0|\n",
      "+--------------------+--------------------+--------------------+--------------------+--------------------+----------+\n",
      "\n"
     ]
    },
    {
     "data": {
      "text/plain": [
       "org.apache.spark.sql.execution.streaming.StreamingQueryWrapper@3ef1bcf1"
      ]
     },
     "execution_count": 110,
     "metadata": {},
     "output_type": "execute_result"
    },
    {
     "name": "stdout",
     "output_type": "stream",
     "text": [
      "+--------------------+--------------------+--------------------+--------------------+--------------------+----------+\n",
      "|               tweet|               words|            features|       rawPrediction|         probability|prediction|\n",
      "+--------------------+--------------------+--------------------+--------------------+--------------------+----------+\n",
      "|caramel was a bad...|[caramel, was, a,...|(1000,[86,170,234...|[5.14697803216483...|[0.51469780321648...|       0.0|\n",
      "|@kim_chi oh im lo...|[@kim_chi, oh, im...|(1000,[32,157,159...|[5.60333639419692...|[0.56033363941969...|       0.0|\n",
      "|@KILA21  nov 20th...|[@kila21, , nov, ...|(1000,[7,368,372,...|[5.18576025215998...|[0.51857602521599...|       0.0|\n",
      "|@chelseaheyy, ahh...|[@chelseaheyy,, a...|(1000,[34,54,72,9...|[4.94764312568262...|[0.49476431256826...|       1.0|\n",
      "|gettin a tat haha...|[gettin, a, tat, ...|(1000,[7,17,74,17...|[4.84456570320690...|[0.48445657032069...|       1.0|\n",
      "|@MGiraudOfficial ...|[@mgiraudofficial...|(1000,[0,188,216,...|[4.77914194482526...|[0.47791419448252...|       1.0|\n",
      "|@djenrie sounds l...|[@djenrie, sounds...|(1000,[77,82,170,...|[4.93898772749148...|[0.49389877274914...|       1.0|\n",
      "|@anniedaum this i...|[@anniedaum, this...|(1000,[0,50,281,3...|[5.63794180065782...|[0.56379418006578...|       0.0|\n",
      "|My car is borderl...|[my, car, is, bor...|(1000,[7,36,77,80...|[5.71743539984089...|[0.57174353998408...|       0.0|\n",
      "|Can't wait til we...|[can't, wait, til...|(1000,[138,248,32...|[5.48517739566928...|[0.54851773956692...|       0.0|\n",
      "|@PostSecretFan ma...|[@postsecretfan, ...|(1000,[70,134,138...|[5.09157892692067...|[0.50915789269206...|       0.0|\n",
      "|@saralovzdrew I'm...|[@saralovzdrew, i...|(1000,[36,53,77,2...|[4.87917110966780...|[0.48791711096678...|       1.0|\n",
      "|@CappPrice btw, y...|[@cappprice, btw,...|(1000,[116,130,16...|[4.42532469785944...|[0.44253246978594...|       1.0|\n",
      "|LUV &amp;&amp; PE...|[luv, &amp;&amp;,...|(1000,[192,329,42...|[5.63794180065782...|[0.56379418006578...|       0.0|\n",
      "+--------------------+--------------------+--------------------+--------------------+--------------------+----------+\n",
      "\n"
     ]
    }
   ],
   "source": [
    "predictionsDF.writeStream.foreachBatch { (batchDF: DataFrame, batchId: Long) =>\n",
    "    batchDF.show()\n",
    "}.start()"
   ]
  },
  {
   "cell_type": "code",
   "execution_count": 111,
   "metadata": {
    "scrolled": true
   },
   "outputs": [
    {
     "name": "stdout",
     "output_type": "stream",
     "text": [
      "+--------------------+--------------------+\n",
      "|               tweet|negative_probability|\n",
      "+--------------------+--------------------+\n",
      "|is casting away c...|   0.512082889033219|\n",
      "|@YannR 15 miles 1...|  0.4929649145575655|\n",
      "|@Chesska5 AGAIN!!...|   0.512082889033219|\n",
      "|@vodafoneNZ why n...| 0.42873848321963104|\n",
      "|mark derosa AND k...|   0.436205819934217|\n",
      "|@toeandno glad to...|  0.5379354453350196|\n",
      "|On the streetcar ...|  0.4918990234192786|\n",
      "|@jenmarielle why ...|  0.5920915934117577|\n",
      "|@mikeypiff you're...|  0.5338122294901468|\n",
      "|@sunanna ooo! I w...|  0.5091076203476022|\n",
      "|today was the bes...|  0.5688520600607138|\n",
      "|  new background... |   0.512082889033219|\n",
      "|@kyle270 hey baby...|   0.578296117697853|\n",
      "|@realmfox You loo...|  0.5437651845545968|\n",
      "|      ciao for now! |   0.512082889033219|\n",
      "|Mmmm frozen yogurt. |   0.512082889033219|\n",
      "|@KimKardashian ye...|   0.549347621510118|\n",
      "|@SinaAmedson it's...|  0.5437651845545968|\n",
      "|     Goodmorning !! |   0.512082889033219|\n",
      "|@FitPole Very tem...|  0.5252192017265055|\n",
      "+--------------------+--------------------+\n",
      "\n",
      "+--------------------+--------------------+\n",
      "|               tweet|negative_probability|\n",
      "+--------------------+--------------------+\n",
      "|caramel was a bad...|  0.4853021967835162|\n",
      "|@kim_chi oh im lo...|  0.4396663605803073|\n",
      "|@KILA21  nov 20th...|   0.481423974784002|\n",
      "|@chelseaheyy, ahh...|  0.5052356874317374|\n",
      "|gettin a tat haha...|  0.5155434296793093|\n",
      "|@MGiraudOfficial ...|  0.5220858055174731|\n",
      "|@djenrie sounds l...|  0.5061012272508518|\n",
      "|@anniedaum this i...|   0.436205819934217|\n",
      "|My car is borderl...|   0.428256460015911|\n",
      "|Can't wait til we...| 0.45148226043307194|\n",
      "|@PostSecretFan ma...|  0.4908421073079322|\n",
      "|@saralovzdrew I'm...|   0.512082889033219|\n",
      "|@CappPrice btw, y...|  0.5574675302140558|\n",
      "|LUV &amp;&amp; PE...|   0.436205819934217|\n",
      "+--------------------+--------------------+\n",
      "\n"
     ]
    },
    {
     "data": {
      "text/plain": [
       "toArr = > Array[Double] = <function1>\n",
       "toArrUdf = UserDefinedFunction(<function1>,ArrayType(DoubleType,false),None)\n"
      ]
     },
     "metadata": {},
     "output_type": "display_data"
    },
    {
     "data": {
      "text/plain": [
       "lastException: Throwable = null\n"
      ]
     },
     "metadata": {},
     "output_type": "display_data"
    },
    {
     "data": {
      "text/plain": [
       "org.apache.spark.sql.execution.streaming.StreamingQueryWrapper@590c926c"
      ]
     },
     "execution_count": 111,
     "metadata": {},
     "output_type": "execute_result"
    }
   ],
   "source": [
    "import org.apache.spark.ml.linalg.DenseVector\n",
    "val toArr: Any => Array[Double] = _.asInstanceOf[DenseVector].toArray\n",
    "val toArrUdf = udf(toArr)\n",
    "\n",
    "predictionsDF.writeStream.foreachBatch { (batchDF: DataFrame, batchId: Long) =>\n",
    "    batchDF\n",
    "        .withColumn(\"probability_array\", toArrUdf('probability))\n",
    "        .withColumn(\"negative_probability\", 'probability_array(1))\n",
    "        .select($\"tweet\", $\"negative_probability\")\n",
    "        .show()\n",
    "}.start()\n"
   ]
  },
  {
   "cell_type": "code",
   "execution_count": null,
   "metadata": {},
   "outputs": [],
   "source": []
  },
  {
   "cell_type": "code",
   "execution_count": null,
   "metadata": {},
   "outputs": [],
   "source": []
  }
 ],
 "metadata": {
  "kernelspec": {
   "display_name": "Apache Toree - Scala",
   "language": "scala",
   "name": "apache_toree_scala"
  },
  "language_info": {
   "codemirror_mode": "text/x-scala",
   "file_extension": ".scala",
   "mimetype": "text/x-scala",
   "name": "scala",
   "pygments_lexer": "scala",
   "version": "2.11.12"
  }
 },
 "nbformat": 4,
 "nbformat_minor": 4
}
