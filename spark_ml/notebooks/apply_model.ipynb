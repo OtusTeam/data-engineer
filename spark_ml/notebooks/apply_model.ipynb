{
 "cells": [
  {
   "cell_type": "code",
   "execution_count": 1,
   "metadata": {},
   "outputs": [],
   "source": [
    "import org.apache.spark.sql.types.{StructType, StringType}\n",
    "import org.apache.spark.ml.{Pipeline, PipelineModel}\n",
    "import org.apache.spark.sql.functions._\n",
    "import org.apache.spark.sql.DataFrame"
   ]
  },
  {
   "cell_type": "code",
   "execution_count": 2,
   "metadata": {},
   "outputs": [
    {
     "name": "stdout",
     "output_type": "stream",
     "text": [
      "Current spark version is 2.4.5\n"
     ]
    }
   ],
   "source": [
    "println(s\"Current spark version is ${spark.version}\")"
   ]
  },
  {
   "cell_type": "code",
   "execution_count": 3,
   "metadata": {},
   "outputs": [
    {
     "data": {
      "text/plain": [
       "inputStreamPath = /home/jovyan/data/events-stream\n",
       "modelPath = /home/jovyan/models/spark-ml-model\n",
       "dataSchema = StructType(StructField(tweet,StringType,true))\n",
       "inputDF = [tweet: string]\n"
      ]
     },
     "metadata": {},
     "output_type": "display_data"
    },
    {
     "data": {
      "text/plain": [
       "[tweet: string]"
      ]
     },
     "execution_count": 3,
     "metadata": {},
     "output_type": "execute_result"
    }
   ],
   "source": [
    "val inputStreamPath = \"/home/jovyan/data/events-stream\"\n",
    "val modelPath = \"/home/jovyan/models/spark-ml-model\"\n",
    "\n",
    "val dataSchema = new StructType()\n",
    "    .add(\"tweet\", StringType)\n",
    "\n",
    "val inputDF = spark\n",
    "    .readStream\n",
    "    .schema(dataSchema)\n",
    "    .option(\"maxFilesPerTrigger\", 1)\n",
    "    .json(inputStreamPath)"
   ]
  },
  {
   "cell_type": "code",
   "execution_count": 5,
   "metadata": {},
   "outputs": [
    {
     "data": {
      "text/plain": [
       "model = pipeline_b55dc16529e6\n"
      ]
     },
     "metadata": {},
     "output_type": "display_data"
    },
    {
     "data": {
      "text/plain": [
       "pipeline_b55dc16529e6"
      ]
     },
     "execution_count": 5,
     "metadata": {},
     "output_type": "execute_result"
    }
   ],
   "source": [
    "val model = PipelineModel.load(\"/home/jovyan/models/spark-ml-model\")"
   ]
  },
  {
   "cell_type": "code",
   "execution_count": 10,
   "metadata": {},
   "outputs": [
    {
     "data": {
      "text/plain": [
       "getProbability = UserDefinedFunction(<function1>,DoubleType,Some(List(org.apache.spark.ml.linalg.VectorUDT@3bfc3ba7)))\n"
      ]
     },
     "metadata": {},
     "output_type": "display_data"
    },
    {
     "data": {
      "text/plain": [
       "UserDefinedFunction(<function1>,DoubleType,Some(List(org.apache.spark.ml.linalg.VectorUDT@3bfc3ba7)))"
      ]
     },
     "execution_count": 10,
     "metadata": {},
     "output_type": "execute_result"
    }
   ],
   "source": [
    "val getProbability = udf((prediction: org.apache.spark.ml.linalg.Vector) => prediction(0))"
   ]
  },
  {
   "cell_type": "code",
   "execution_count": 15,
   "metadata": {},
   "outputs": [
    {
     "data": {
      "text/plain": [
       "predictionsDF = [tweet: string, negative_probability: double ... 1 more field]\n"
      ]
     },
     "metadata": {},
     "output_type": "display_data"
    },
    {
     "data": {
      "text/plain": [
       "[tweet: string, negative_probability: double ... 1 more field]"
      ]
     },
     "execution_count": 15,
     "metadata": {},
     "output_type": "execute_result"
    }
   ],
   "source": [
    "val predictionsDF = model\n",
    "    .transform(inputDF)\n",
    "    .withColumn(\"negative_probability\", getProbability($\"probability\"))\n",
    "    .select($\"tweet\", $\"negative_probability\", $\"prediction\")"
   ]
  },
  {
   "cell_type": "code",
   "execution_count": 12,
   "metadata": {},
   "outputs": [
    {
     "name": "stdout",
     "output_type": "stream",
     "text": [
      "+--------------------+--------------------+----------+\n",
      "|               tweet|negative_probability|prediction|\n",
      "+--------------------+--------------------+----------+\n",
      "|@Juicyanna; Diddy...|  0.8901332679579512|       0.0|\n",
      "|@sudosushi I know...|  0.7777197158685681|       0.0|\n",
      "|Blog update #fail...| 0.13637176440714127|       1.0|\n",
      "|@ohallquist our b...|  0.2979543416869346|       1.0|\n",
      "|It's back to work...|  0.1468461944857056|       1.0|\n",
      "|@BillyMcCoy Size ...|  0.4746102174724886|       1.0|\n",
      "|Do I lose karma p...|  0.5391162718887975|       0.0|\n",
      "|is wondering what...| 0.20589834531412515|       1.0|\n",
      "|way too tired but...|  0.9552876900376297|       0.0|\n",
      "|meh. The 3rd &quo...|  0.8953583465973864|       0.0|\n",
      "|@MTB_Keith Nice pic | 0.23067385060765142|       1.0|\n",
      "|OMFG. i didnt exp...|  0.7791850572134945|       0.0|\n",
      "|Such a good day. ...| 0.16346667183595723|       1.0|\n",
      "|It's official, I'...|  0.5995152964716891|       0.0|\n",
      "|Welcome to June, ...| 0.06275747857451555|       1.0|\n",
      "|Watching Charlie ...| 0.06433296000224045|       1.0|\n",
      "|@ANGELOFMUSIC172 ...|  0.6037326988491096|       0.0|\n",
      "|packing is stress...| 0.46640650925463184|       1.0|\n",
      "+--------------------+--------------------+----------+\n",
      "\n"
     ]
    },
    {
     "data": {
      "text/plain": [
       "org.apache.spark.sql.execution.streaming.StreamingQueryWrapper@552397f"
      ]
     },
     "execution_count": 12,
     "metadata": {},
     "output_type": "execute_result"
    },
    {
     "name": "stdout",
     "output_type": "stream",
     "text": [
      "+--------------------+--------------------+----------+\n",
      "|               tweet|negative_probability|prediction|\n",
      "+--------------------+--------------------+----------+\n",
      "|@DontLetGo14 at h...|   0.639195193416711|       0.0|\n",
      "|jamEz: Dammit I g...|  0.8096952415109441|       0.0|\n",
      "|ITS FRIDAY AND IM...|   0.509414330057137|       0.0|\n",
      "|Wah! can't find m...|  0.8602868675141637|       0.0|\n",
      "|@PinkM Paka akito...| 0.43680984005490314|       1.0|\n",
      "|@keremgogus thank...| 0.08933984673423069|       1.0|\n",
      "|morning all  gett...| 0.21745447986796676|       1.0|\n",
      "|is being edumacat...|   0.578523779837136|       0.0|\n",
      "|@craigsbeardwax H...| 0.17051348083951692|       1.0|\n",
      "|Mon 1st June- Aww...|  0.6697062225155298|       0.0|\n",
      "|@linds911 Thanks ...|  0.2551624349721602|       1.0|\n",
      "|going for a morni...| 0.48413181803945005|       1.0|\n",
      "+--------------------+--------------------+----------+\n",
      "\n",
      "+--------------------+--------------------+----------+\n",
      "|               tweet|negative_probability|prediction|\n",
      "+--------------------+--------------------+----------+\n",
      "|I can't go back t...|  0.8616723125620319|       0.0|\n",
      "|@xbllygbsn tried ...|  0.3077227760081908|       1.0|\n",
      "|@ji_ric So I only...|  0.6517216821076282|       0.0|\n",
      "|My girlfriend is ...|  0.9305990126882125|       0.0|\n",
      "|@algebraoverdose ...|  0.9853774714272838|       0.0|\n",
      "|I miss my sister ...|  0.9353659722266262|       0.0|\n",
      "|Has got back from...|  0.8358485068857336|       0.0|\n",
      "|off to lunch. on ...| 0.30165105305123674|       1.0|\n",
      "|&quot;Designing f...|   0.174676079114556|       1.0|\n",
      "|Can't wait till m...| 0.33373838841075815|       1.0|\n",
      "|No longer dark ou...|  0.9134797991346987|       0.0|\n",
      "|Live from New Yor...|  0.5354980171310014|       0.0|\n",
      "|Loving my exam re...|  0.4005707605347481|       1.0|\n",
      "|http://twitpic.co...|   0.532861551558642|       0.0|\n",
      "|I'm loving this h...|  0.3964795264962795|       1.0|\n",
      "|@ratusyura how mu...| 0.36654123412173983|       1.0|\n",
      "|right now i'm on ...|  0.5378598039314434|       0.0|\n",
      "|listening to juno...| 0.14155793777391726|       1.0|\n",
      "|     Lovin' the sun |  0.4544371898422314|       1.0|\n",
      "|good morning!  i ...|  0.3808380492709457|       1.0|\n",
      "+--------------------+--------------------+----------+\n",
      "\n",
      "+--------------------+--------------------+----------+\n",
      "|               tweet|negative_probability|prediction|\n",
      "+--------------------+--------------------+----------+\n",
      "|(@theuer) note to...|  0.6541873532811734|       0.0|\n",
      "|Oh no Woolworths ...|  0.7261580339624301|       0.0|\n",
      "|Feeling a bit sad...|  0.9806383128828879|       0.0|\n",
      "|im so so bored ri...|  0.7233833257866925|       0.0|\n",
      "|@SugarJones I DO!...|  0.7408902506759376|       0.0|\n",
      "|I decided I'm goi...|    0.80170576929596|       0.0|\n",
      "|TODAAAAAY! Let's ...|  0.3592314968399282|       1.0|\n",
      "|@michaelgrainger ...|  0.6882665703656622|       0.0|\n",
      "|i ate a very fat ...|  0.3947125315490153|       1.0|\n",
      "|a hundred songs.....| 0.23902602744409032|       1.0|\n",
      "|@MelKirk will che...| 0.14084424993055011|       1.0|\n",
      "| phoning with hanna | 0.28459327700882936|       1.0|\n",
      "|          goodnight |  0.3221688816413223|       1.0|\n",
      "|@StephanieDaily W...|  0.5247323535928694|       0.0|\n",
      "|@tommcfly tomtom ...| 0.31960092407171814|       1.0|\n",
      "|Good evening ever...| 0.32178593463732413|       1.0|\n",
      "|@amruth92 sure.. ...| 0.11647017409661845|       1.0|\n",
      "|Is in a very good...|  0.6560872988997305|       0.0|\n",
      "|@xMilesTayDemJBx ...|  0.1605367372444659|       1.0|\n",
      "|Listening to Last...| 0.45782309031572666|       1.0|\n",
      "+--------------------+--------------------+----------+\n",
      "only showing top 20 rows\n",
      "\n"
     ]
    }
   ],
   "source": [
    "predictionsDF.writeStream.foreachBatch { (batchDF: DataFrame, batchId: Long) =>\n",
    "    batchDF.show()\n",
    "}.start()"
   ]
  },
  {
   "cell_type": "code",
   "execution_count": null,
   "metadata": {
    "scrolled": true
   },
   "outputs": [
    {
     "name": "stdout",
     "output_type": "stream",
     "text": [
      "-------------------------------------------\n",
      "Batch: 0\n",
      "-------------------------------------------\n",
      "+------+----------+-----+\n",
      "|window|prediction|count|\n",
      "+------+----------+-----+\n",
      "+------+----------+-----+\n",
      "\n",
      "-------------------------------------------\n",
      "Batch: 1\n",
      "-------------------------------------------\n",
      "+------+----------+-----+\n",
      "|window|prediction|count|\n",
      "+------+----------+-----+\n",
      "+------+----------+-----+\n",
      "\n",
      "-------------------------------------------\n",
      "Batch: 2\n",
      "-------------------------------------------\n",
      "+------+----------+-----+\n",
      "|window|prediction|count|\n",
      "+------+----------+-----+\n",
      "+------+----------+-----+\n",
      "\n",
      "-------------------------------------------\n",
      "Batch: 3\n",
      "-------------------------------------------\n",
      "+------+----------+-----+\n",
      "|window|prediction|count|\n",
      "+------+----------+-----+\n",
      "+------+----------+-----+\n",
      "\n",
      "-------------------------------------------\n",
      "Batch: 4\n",
      "-------------------------------------------\n",
      "+--------------------+----------+-----+\n",
      "|              window|prediction|count|\n",
      "+--------------------+----------+-----+\n",
      "|[2020-03-17 06:37...|       0.0|    8|\n",
      "|[2020-03-17 06:37...|       0.0|    8|\n",
      "|[2020-03-17 06:37...|       0.0|    8|\n",
      "|[2020-03-17 06:37...|       1.0|   10|\n",
      "|[2020-03-17 06:37...|       1.0|   10|\n",
      "|[2020-03-17 06:37...|       1.0|   10|\n",
      "|[2020-03-17 06:37...|       1.0|   10|\n",
      "|[2020-03-17 06:37...|       0.0|    8|\n",
      "+--------------------+----------+-----+\n",
      "\n"
     ]
    }
   ],
   "source": [
    "val query = predictionsDF\n",
    "    .withColumn(\"timestamp\", current_timestamp)\n",
    "    .withWatermark(\"timestamp\", \"10 seconds\")\n",
    "    .groupBy(window($\"timestamp\", \"10 seconds\", \"1 second\"), $\"prediction\")\n",
    "    .count\n",
    "    .writeStream\n",
    "    .outputMode(\"append\")\n",
    "    .format(\"console\")\n",
    "    .start()\n",
    "\n",
    "query.awaitTermination(100000)"
   ]
  },
  {
   "cell_type": "code",
   "execution_count": null,
   "metadata": {},
   "outputs": [],
   "source": []
  }
 ],
 "metadata": {
  "kernelspec": {
   "display_name": "Apache Toree - Scala",
   "language": "scala",
   "name": "apache_toree_scala"
  },
  "language_info": {
   "codemirror_mode": "text/x-scala",
   "file_extension": ".scala",
   "mimetype": "text/x-scala",
   "name": "scala",
   "pygments_lexer": "scala",
   "version": "2.11.12"
  }
 },
 "nbformat": 4,
 "nbformat_minor": 4
}
