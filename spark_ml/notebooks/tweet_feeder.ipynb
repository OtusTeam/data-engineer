{
 "cells": [
  {
   "cell_type": "code",
   "execution_count": 1,
   "metadata": {},
   "outputs": [
    {
     "name": "stdout",
     "output_type": "stream",
     "text": [
      "Current spark version is 2.4.4\n"
     ]
    }
   ],
   "source": [
    "println(s\"Current spark version is ${spark.version}\")"
   ]
  },
  {
   "cell_type": "code",
   "execution_count": 2,
   "metadata": {},
   "outputs": [
    {
     "name": "stdout",
     "output_type": "stream",
     "text": [
      "Total tweets in file: 1600000\n"
     ]
    },
    {
     "data": {
      "text/plain": [
       "dataSchema = StructType(StructField(target,IntegerType,true), StructField(id,LongType,true), StructField(raw_timestamp,StringType,true), StructField(query_status,StringType,true), StructField(author,StringType,true), StructField(tweet,StringType,true))\n",
       "dataPath = /home/jovyan/data/training.1600000.processed.noemoticon.csv\n",
       "raw_sentiment = [tweet: string]\n"
      ]
     },
     "metadata": {},
     "output_type": "display_data",
     "source": "user"
    },
    {
     "data": {
      "text/plain": [
       "[tweet: string]"
      ]
     },
     "execution_count": 2,
     "metadata": {},
     "output_type": "execute_result"
    }
   ],
   "source": [
    "import org.apache.spark.sql.types.{StructType, StructField, IntegerType, LongType, StringType}\n",
    "\n",
    "val dataSchema = new StructType()\n",
    "    .add(\"target\", IntegerType)\n",
    "    .add(\"id\", LongType)\n",
    "    .add(\"raw_timestamp\", StringType)\n",
    "    .add(\"query_status\", StringType)\n",
    "    .add(\"author\", StringType)\n",
    "    .add(\"tweet\", StringType)\n",
    "\n",
    "    \n",
    "val dataPath= \"/home/jovyan/data/training.1600000.processed.noemoticon.csv\"\n",
    "\n",
    "val raw_sentiment = spark.read\n",
    "    .format(\"csv\")\n",
    "    .option(\"header\",false)\n",
    "    .schema(dataSchema)\n",
    "    .load(dataPath)\n",
    "    .selectExpr(\"tweet\")\n",
    "\n",
    "println(s\"Total tweets in file: ${raw_sentiment.count}\")\n"
   ]
  },
  {
   "cell_type": "code",
   "execution_count": 5,
   "metadata": {},
   "outputs": [
    {
     "name": "stdout",
     "output_type": "stream",
     "text": [
      "Streaming started!\n"
     ]
    },
    {
     "data": {
      "text/plain": [
       "timer = java.util.Timer@666efeb4\n",
       "task = $anon$1@679f8641\n"
      ]
     },
     "metadata": {},
     "output_type": "display_data",
     "source": "user"
    },
    {
     "data": {
      "text/plain": [
       "$anon$1@679f8641"
      ]
     },
     "execution_count": 5,
     "metadata": {},
     "output_type": "execute_result"
    },
    {
     "name": "stdout",
     "output_type": "stream",
     "text": [
      "2020-01-15T16:31:27.176Z - saved some data to the events stream!\n",
      "2020-01-15T16:31:31.346Z - saved some data to the events stream!\n",
      "2020-01-15T16:31:35.692Z - saved some data to the events stream!\n",
      "2020-01-15T16:31:39.673Z - saved some data to the events stream!\n",
      "2020-01-15T16:31:43.447Z - saved some data to the events stream!\n",
      "2020-01-15T16:31:47.443Z - saved some data to the events stream!\n",
      "2020-01-15T16:31:51.476Z - saved some data to the events stream!\n",
      "2020-01-15T16:31:55.566Z - saved some data to the events stream!\n",
      "2020-01-15T16:31:59.799Z - saved some data to the events stream!\n",
      "2020-01-15T16:32:03.722Z - saved some data to the events stream!\n",
      "2020-01-15T16:32:07.448Z - saved some data to the events stream!\n",
      "2020-01-15T16:32:11.453Z - saved some data to the events stream!\n",
      "2020-01-15T16:32:15.492Z - saved some data to the events stream!\n",
      "2020-01-15T16:32:19.695Z - saved some data to the events stream!\n",
      "2020-01-15T16:32:23.669Z - saved some data to the events stream!\n",
      "2020-01-15T16:32:27.364Z - saved some data to the events stream!\n",
      "2020-01-15T16:32:31.149Z - saved some data to the events stream!\n",
      "2020-01-15T16:32:34.957Z - saved some data to the events stream!\n",
      "2020-01-15T16:32:38.687Z - saved some data to the events stream!\n",
      "2020-01-15T16:32:42.484Z - saved some data to the events stream!\n",
      "2020-01-15T16:32:46.333Z - saved some data to the events stream!\n",
      "2020-01-15T16:32:50.170Z - saved some data to the events stream!\n",
      "2020-01-15T16:32:54.051Z - saved some data to the events stream!\n",
      "2020-01-15T16:32:57.781Z - saved some data to the events stream!\n",
      "2020-01-15T16:33:02.124Z - saved some data to the events stream!\n",
      "2020-01-15T16:33:06.013Z - saved some data to the events stream!\n",
      "2020-01-15T16:33:09.787Z - saved some data to the events stream!\n",
      "2020-01-15T16:33:13.535Z - saved some data to the events stream!\n",
      "2020-01-15T16:33:17.216Z - saved some data to the events stream!\n",
      "2020-01-15T16:33:20.923Z - saved some data to the events stream!\n",
      "2020-01-15T16:33:24.662Z - saved some data to the events stream!\n",
      "2020-01-15T16:33:28.628Z - saved some data to the events stream!\n",
      "2020-01-15T16:33:32.552Z - saved some data to the events stream!\n",
      "2020-01-15T16:33:36.272Z - saved some data to the events stream!\n",
      "2020-01-15T16:33:40.182Z - saved some data to the events stream!\n",
      "2020-01-15T16:33:43.916Z - saved some data to the events stream!\n",
      "2020-01-15T16:33:47.549Z - saved some data to the events stream!\n",
      "2020-01-15T16:33:51.214Z - saved some data to the events stream!\n",
      "2020-01-15T16:33:54.800Z - saved some data to the events stream!\n",
      "2020-01-15T16:33:58.374Z - saved some data to the events stream!\n",
      "2020-01-15T16:34:03.050Z - saved some data to the events stream!\n",
      "2020-01-15T16:34:07.219Z - saved some data to the events stream!\n",
      "2020-01-15T16:34:10.892Z - saved some data to the events stream!\n",
      "2020-01-15T16:34:15.050Z - saved some data to the events stream!\n",
      "2020-01-15T16:34:18.947Z - saved some data to the events stream!\n",
      "2020-01-15T16:34:22.652Z - saved some data to the events stream!\n",
      "2020-01-15T16:34:26.278Z - saved some data to the events stream!\n",
      "2020-01-15T16:34:30.019Z - saved some data to the events stream!\n",
      "2020-01-15T16:34:33.823Z - saved some data to the events stream!\n",
      "2020-01-15T16:34:37.592Z - saved some data to the events stream!\n",
      "2020-01-15T16:34:43.840Z - saved some data to the events stream!\n",
      "2020-01-15T16:34:50.505Z - saved some data to the events stream!\n",
      "2020-01-15T16:34:54.562Z - saved some data to the events stream!\n",
      "2020-01-15T16:34:58.452Z - saved some data to the events stream!\n",
      "2020-01-15T16:35:02.199Z - saved some data to the events stream!\n",
      "2020-01-15T16:35:06Z - saved some data to the events stream!\n",
      "2020-01-15T16:35:09.768Z - saved some data to the events stream!\n",
      "2020-01-15T16:35:13.637Z - saved some data to the events stream!\n",
      "2020-01-15T16:35:17.675Z - saved some data to the events stream!\n",
      "2020-01-15T16:35:21.665Z - saved some data to the events stream!\n",
      "2020-01-15T16:35:25.384Z - saved some data to the events stream!\n",
      "2020-01-15T16:35:29.017Z - saved some data to the events stream!\n",
      "2020-01-15T16:35:32.649Z - saved some data to the events stream!\n",
      "2020-01-15T16:35:36.279Z - saved some data to the events stream!\n",
      "2020-01-15T16:35:40.066Z - saved some data to the events stream!\n",
      "2020-01-15T16:35:43.742Z - saved some data to the events stream!\n",
      "2020-01-15T16:35:47.576Z - saved some data to the events stream!\n",
      "2020-01-15T16:35:51.413Z - saved some data to the events stream!\n",
      "2020-01-15T16:35:55.030Z - saved some data to the events stream!\n",
      "2020-01-15T16:35:58.720Z - saved some data to the events stream!\n",
      "2020-01-15T16:36:02.364Z - saved some data to the events stream!\n",
      "2020-01-15T16:36:06.046Z - saved some data to the events stream!\n",
      "2020-01-15T16:36:09.726Z - saved some data to the events stream!\n",
      "2020-01-15T16:36:13.370Z - saved some data to the events stream!\n",
      "2020-01-15T16:36:17.005Z - saved some data to the events stream!\n",
      "2020-01-15T16:36:20.651Z - saved some data to the events stream!\n",
      "2020-01-15T16:36:24.320Z - saved some data to the events stream!\n",
      "2020-01-15T16:36:27.912Z - saved some data to the events stream!\n",
      "2020-01-15T16:36:32.231Z - saved some data to the events stream!\n",
      "2020-01-15T16:36:35.979Z - saved some data to the events stream!\n",
      "2020-01-15T16:36:39.882Z - saved some data to the events stream!\n",
      "2020-01-15T16:36:43.734Z - saved some data to the events stream!\n",
      "2020-01-15T16:36:47.319Z - saved some data to the events stream!\n",
      "2020-01-15T16:36:51.142Z - saved some data to the events stream!\n",
      "2020-01-15T16:36:54.911Z - saved some data to the events stream!\n",
      "2020-01-15T16:36:59.121Z - saved some data to the events stream!\n",
      "2020-01-15T16:37:02.879Z - saved some data to the events stream!\n",
      "2020-01-15T16:37:06.721Z - saved some data to the events stream!\n",
      "2020-01-15T16:37:10.729Z - saved some data to the events stream!\n",
      "2020-01-15T16:37:14.341Z - saved some data to the events stream!\n",
      "2020-01-15T16:37:18.060Z - saved some data to the events stream!\n",
      "2020-01-15T16:37:21.642Z - saved some data to the events stream!\n",
      "2020-01-15T16:37:25.197Z - saved some data to the events stream!\n",
      "2020-01-15T16:37:29.037Z - saved some data to the events stream!\n",
      "2020-01-15T16:37:32.849Z - saved some data to the events stream!\n",
      "2020-01-15T16:37:36.436Z - saved some data to the events stream!\n",
      "2020-01-15T16:37:40.401Z - saved some data to the events stream!\n",
      "2020-01-15T16:37:44.188Z - saved some data to the events stream!\n",
      "2020-01-15T16:37:47.767Z - saved some data to the events stream!\n",
      "2020-01-15T16:37:51.422Z - saved some data to the events stream!\n",
      "2020-01-15T16:37:55.191Z - saved some data to the events stream!\n",
      "2020-01-15T16:37:58.878Z - saved some data to the events stream!\n",
      "2020-01-15T16:38:02.695Z - saved some data to the events stream!\n",
      "2020-01-15T16:38:06.309Z - saved some data to the events stream!\n",
      "2020-01-15T16:38:10.030Z - saved some data to the events stream!\n",
      "2020-01-15T16:38:13.740Z - saved some data to the events stream!\n",
      "2020-01-15T16:38:17.473Z - saved some data to the events stream!\n",
      "2020-01-15T16:38:21.213Z - saved some data to the events stream!\n",
      "2020-01-15T16:38:24.916Z - saved some data to the events stream!\n",
      "2020-01-15T16:38:28.620Z - saved some data to the events stream!\n",
      "2020-01-15T16:38:33.005Z - saved some data to the events stream!\n",
      "2020-01-15T16:38:36.993Z - saved some data to the events stream!\n",
      "2020-01-15T16:38:40.943Z - saved some data to the events stream!\n",
      "2020-01-15T16:38:44.802Z - saved some data to the events stream!\n",
      "2020-01-15T16:38:48.595Z - saved some data to the events stream!\n",
      "2020-01-15T16:38:52.293Z - saved some data to the events stream!\n",
      "2020-01-15T16:38:56.922Z - saved some data to the events stream!\n",
      "2020-01-15T16:39:01.786Z - saved some data to the events stream!\n",
      "2020-01-15T16:39:06.131Z - saved some data to the events stream!\n",
      "2020-01-15T16:39:10.793Z - saved some data to the events stream!\n",
      "2020-01-15T16:39:14.841Z - saved some data to the events stream!\n",
      "2020-01-15T16:39:18.977Z - saved some data to the events stream!\n",
      "2020-01-15T16:39:22.597Z - saved some data to the events stream!\n",
      "2020-01-15T16:39:26.135Z - saved some data to the events stream!\n",
      "2020-01-15T16:39:29.683Z - saved some data to the events stream!\n",
      "2020-01-15T16:39:33.228Z - saved some data to the events stream!\n",
      "2020-01-15T16:39:36.779Z - saved some data to the events stream!\n",
      "2020-01-15T16:39:40.533Z - saved some data to the events stream!\n",
      "2020-01-15T16:39:44.130Z - saved some data to the events stream!\n",
      "2020-01-15T16:39:47.692Z - saved some data to the events stream!\n",
      "2020-01-15T16:39:51.368Z - saved some data to the events stream!\n",
      "2020-01-15T16:39:54.948Z - saved some data to the events stream!\n",
      "2020-01-15T16:39:58.413Z - saved some data to the events stream!\n",
      "2020-01-15T16:40:02.193Z - saved some data to the events stream!\n",
      "2020-01-15T16:40:05.820Z - saved some data to the events stream!\n",
      "2020-01-15T16:40:09.423Z - saved some data to the events stream!\n",
      "2020-01-15T16:40:13.086Z - saved some data to the events stream!\n",
      "2020-01-15T16:40:16.757Z - saved some data to the events stream!\n",
      "2020-01-15T16:40:20.298Z - saved some data to the events stream!\n",
      "2020-01-15T16:40:23.850Z - saved some data to the events stream!\n",
      "2020-01-15T16:40:27.374Z - saved some data to the events stream!\n",
      "2020-01-15T16:40:31.042Z - saved some data to the events stream!\n",
      "2020-01-15T16:40:34.566Z - saved some data to the events stream!\n",
      "2020-01-15T16:40:38.140Z - saved some data to the events stream!\n",
      "2020-01-15T16:40:41.735Z - saved some data to the events stream!\n",
      "2020-01-15T16:40:45.456Z - saved some data to the events stream!\n",
      "2020-01-15T16:40:51.014Z - saved some data to the events stream!\n",
      "2020-01-15T16:40:54.595Z - saved some data to the events stream!\n",
      "2020-01-15T16:40:58.201Z - saved some data to the events stream!\n",
      "2020-01-15T16:41:02.382Z - saved some data to the events stream!\n",
      "2020-01-15T16:41:05.961Z - saved some data to the events stream!\n",
      "2020-01-15T16:44:36.226Z - saved some data to the events stream!\n",
      "2020-01-15T16:44:41.332Z - saved some data to the events stream!\n",
      "2020-01-15T16:44:45.152Z - saved some data to the events stream!\n",
      "2020-01-15T16:44:50.287Z - saved some data to the events stream!\n",
      "2020-01-15T16:44:53.987Z - saved some data to the events stream!\n",
      "2020-01-15T16:44:57.605Z - saved some data to the events stream!\n",
      "2020-01-15T16:45:01.318Z - saved some data to the events stream!\n",
      "2020-01-15T16:45:04.905Z - saved some data to the events stream!\n",
      "2020-01-15T16:45:09.297Z - saved some data to the events stream!\n",
      "2020-01-15T16:45:12.909Z - saved some data to the events stream!\n",
      "2020-01-15T16:45:16.478Z - saved some data to the events stream!\n",
      "2020-01-15T16:45:19.924Z - saved some data to the events stream!\n",
      "2020-01-15T16:45:23.651Z - saved some data to the events stream!\n",
      "2020-01-15T16:45:27.264Z - saved some data to the events stream!\n",
      "2020-01-15T16:45:30.898Z - saved some data to the events stream!\n",
      "2020-01-15T16:45:34.499Z - saved some data to the events stream!\n",
      "2020-01-15T16:45:38.073Z - saved some data to the events stream!\n",
      "2020-01-15T16:45:41.637Z - saved some data to the events stream!\n",
      "2020-01-15T16:45:45.343Z - saved some data to the events stream!\n",
      "2020-01-15T16:45:48.941Z - saved some data to the events stream!\n",
      "2020-01-15T16:45:52.631Z - saved some data to the events stream!\n",
      "2020-01-15T16:45:56.199Z - saved some data to the events stream!\n",
      "2020-01-15T16:45:59.749Z - saved some data to the events stream!\n",
      "2020-01-15T16:46:03.343Z - saved some data to the events stream!\n",
      "2020-01-15T16:46:06.881Z - saved some data to the events stream!\n",
      "2020-01-15T16:46:11.922Z - saved some data to the events stream!\n",
      "2020-01-15T16:46:19.286Z - saved some data to the events stream!\n",
      "2020-01-15T16:46:24.027Z - saved some data to the events stream!\n",
      "2020-01-15T16:46:29.404Z - saved some data to the events stream!\n",
      "2020-01-15T16:46:33.649Z - saved some data to the events stream!\n",
      "2020-01-15T16:46:38.242Z - saved some data to the events stream!\n",
      "2020-01-15T16:46:42.455Z - saved some data to the events stream!\n",
      "2020-01-15T16:46:46.674Z - saved some data to the events stream!\n",
      "2020-01-15T16:46:51.282Z - saved some data to the events stream!\n",
      "2020-01-15T16:46:55.757Z - saved some data to the events stream!\n",
      "2020-01-15T16:46:59.890Z - saved some data to the events stream!\n",
      "2020-01-15T16:47:04.027Z - saved some data to the events stream!\n",
      "2020-01-15T16:47:08.742Z - saved some data to the events stream!\n",
      "2020-01-15T16:47:13.926Z - saved some data to the events stream!\n",
      "2020-01-15T16:47:18.374Z - saved some data to the events stream!\n",
      "2020-01-15T16:47:23.244Z - saved some data to the events stream!\n",
      "2020-01-15T16:47:27.389Z - saved some data to the events stream!\n",
      "2020-01-15T16:47:32.329Z - saved some data to the events stream!\n",
      "2020-01-15T16:47:36.810Z - saved some data to the events stream!\n",
      "2020-01-15T16:47:40.774Z - saved some data to the events stream!\n",
      "2020-01-15T16:47:44.856Z - saved some data to the events stream!\n",
      "2020-01-15T16:47:48.947Z - saved some data to the events stream!\n",
      "2020-01-15T16:47:52.862Z - saved some data to the events stream!\n",
      "2020-01-15T16:47:57.127Z - saved some data to the events stream!\n",
      "2020-01-15T16:48:01.174Z - saved some data to the events stream!\n",
      "2020-01-15T16:48:05.064Z - saved some data to the events stream!\n",
      "2020-01-15T16:48:09.498Z - saved some data to the events stream!\n",
      "2020-01-15T16:48:13.349Z - saved some data to the events stream!\n",
      "2020-01-15T16:48:17.223Z - saved some data to the events stream!\n",
      "2020-01-15T16:48:21.060Z - saved some data to the events stream!\n",
      "2020-01-15T16:48:25.411Z - saved some data to the events stream!\n",
      "2020-01-15T16:48:29.424Z - saved some data to the events stream!\n",
      "2020-01-15T16:48:33.767Z - saved some data to the events stream!\n",
      "2020-01-15T16:48:37.508Z - saved some data to the events stream!\n",
      "2020-01-15T16:48:43.577Z - saved some data to the events stream!\n",
      "2020-01-15T16:48:49.509Z - saved some data to the events stream!\n",
      "2020-01-15T16:48:53.608Z - saved some data to the events stream!\n",
      "2020-01-15T16:48:57.881Z - saved some data to the events stream!\n",
      "2020-01-15T16:49:02.200Z - saved some data to the events stream!\n",
      "2020-01-15T16:49:06.548Z - saved some data to the events stream!\n",
      "2020-01-15T16:49:10.853Z - saved some data to the events stream!\n",
      "2020-01-15T16:49:14.869Z - saved some data to the events stream!\n",
      "2020-01-15T16:49:18.790Z - saved some data to the events stream!\n",
      "2020-01-15T16:49:23.062Z - saved some data to the events stream!\n",
      "2020-01-15T16:49:26.888Z - saved some data to the events stream!\n",
      "2020-01-15T16:49:30.733Z - saved some data to the events stream!\n",
      "2020-01-15T16:49:34.346Z - saved some data to the events stream!\n",
      "2020-01-15T16:49:38.545Z - saved some data to the events stream!\n",
      "2020-01-15T16:49:44.446Z - saved some data to the events stream!\n",
      "2020-01-15T16:49:50.768Z - saved some data to the events stream!\n"
     ]
    }
   ],
   "source": [
    "import java.util.{Calendar, Timer, TimerTask}\n",
    "\n",
    "val timer = new Timer()\n",
    "\n",
    "val task = new TimerTask {\n",
    "  def run(): Unit = {\n",
    "      val data = raw_sentiment.sample(fraction=0.00001,withReplacement=true)\n",
    "      data.coalesce(1).write.format(\"json\").mode(\"append\").save(\"/home/jovyan/data/events-stream\")\n",
    "      println(s\"${Calendar.getInstance().toInstant} - saved some data to the events stream!\")\n",
    "  } \n",
    "}\n",
    "\n",
    "println(\"Streaming started!\")\n",
    "\n",
    "timer.schedule(task, 1000L, 1000L)"
   ]
  },
  {
   "cell_type": "code",
   "execution_count": 4,
   "metadata": {},
   "outputs": [
    {
     "data": {
      "text/plain": [
       "true"
      ]
     },
     "execution_count": 4,
     "metadata": {},
     "output_type": "execute_result"
    }
   ],
   "source": [
    "task.cancel()"
   ]
  },
  {
   "cell_type": "code",
   "execution_count": null,
   "metadata": {},
   "outputs": [],
   "source": []
  }
 ],
 "metadata": {
  "kernelspec": {
   "display_name": "Apache Toree - Scala",
   "language": "scala",
   "name": "apache_toree_scala"
  },
  "language_info": {
   "codemirror_mode": "text/x-scala",
   "file_extension": ".scala",
   "mimetype": "text/x-scala",
   "name": "scala",
   "pygments_lexer": "scala",
   "version": "2.11.12"
  }
 },
 "nbformat": 4,
 "nbformat_minor": 4
}
